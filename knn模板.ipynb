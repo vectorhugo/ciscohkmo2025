{
  "nbformat": 4,
  "nbformat_minor": 0,
  "metadata": {
    "colab": {
      "provenance": []
    },
    "kernelspec": {
      "name": "python3",
      "display_name": "Python 3"
    },
    "language_info": {
      "name": "python"
    }
  },
  "cells": [
    {
      "cell_type": "code",
      "execution_count": null,
      "metadata": {
        "id": "GW9SHTvXrcUn"
      },
      "outputs": [],
      "source": [
        "import pandas as pd\n",
        "from sklearn.neighbors import KNeighborsClassifier\n",
        "\n",
        "# 1. 加载数据\n",
        "train_data = pd.read_csv(\"/kaggle/input/houkongtest/stock_train_data.csv\")  # 训练集\n",
        "test_data = pd.read_csv(\"/kaggle/input/houkongtest/stock_test_data.csv\")    # 测试集\n",
        "\n",
        "# 2. 指定列用途（根据实际数据修改！）\n",
        "target_col = \"target\"          # 替换为你的分类目标列名\n",
        "useless_cols = [\"id\", \"date\"]  # 指定要删除的无用列名（如ID、日期等）\n",
        "used_features = [\"feature1\", \"feature2\", \"feature3\"]  # 指定要使用的特征列名\n",
        "\n",
        "# 3. 数据清洗（删除无用列）\n",
        "# 训练集处理\n",
        "X_train = train_data[used_features].values  # 只保留有用特征\n",
        "y_train = train_data[target_col].values     # 提取目标列\n",
        "\n",
        "# 测试集处理（保留ID用于提交，但训练时不使用）\n",
        "test_ids = test_data[\"id\"].values           # 假设测试集有id列\n",
        "X_test = test_data[used_features].values     # 使用与训练集相同的特征\n",
        "\n",
        "# 4. 训练模型（KNN分类器）\n",
        "model = KNeighborsClassifier(n_neighbors=5)  # 默认使用5个邻居\n",
        "model.fit(X_train, y_train)\n",
        "\n",
        "# 5. 预测并保存结果\n",
        "pd.DataFrame({\n",
        "    \"id\": test_ids,\n",
        "    \"prediction\": model.predict(X_test)\n",
        "}).to_csv(\"submit.csv\", index=False)\n",
        "\n",
        "print(\"结果已保存至 submit.csv\")\n",
        "print(\"使用特征:\", used_features)\n",
        "print(\"删除列:\", useless_cols)"
      ]
    }
  ]
}