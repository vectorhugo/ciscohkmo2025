{
  "nbformat": 4,
  "nbformat_minor": 0,
  "metadata": {
    "colab": {
      "provenance": []
    },
    "kernelspec": {
      "name": "python3",
      "display_name": "Python 3"
    },
    "language_info": {
      "name": "python"
    }
  },
  "cells": [
    {
      "cell_type": "code",
      "execution_count": null,
      "metadata": {
        "id": "GW9SHTvXrcUn"
      },
      "outputs": [],
      "source": [
        "# -*- coding: utf-8 -*-\n",
        "# 极简决策树模板（带行列删除）\n",
        "import pandas as pd\n",
        "from sklearn.tree import DecisionTreeClassifier\n",
        "\n",
        "# 1. 加载数据\n",
        "train_data = pd.read_csv('train.csv')\n",
        "test_data = pd.read_csv('test.csv')\n",
        "\n",
        "# 2. 指定列用途（根据实际数据修改！）\n",
        "target_col = \"label\"           # 目标列名（预测值）\n",
        "useless_cols = [\"id\", \"date\"]  # 要删除的无用列名\n",
        "used_features = [\"feature1\", \"feature2\", \"feature3\"]  # 使用的特征列名\n",
        "\n",
        "# 3. 数据清洗（删除无用列）\n",
        "# 训练集处理\n",
        "X_train = train_data[used_features].values  # 只保留有用特征\n",
        "y_train = train_data[target_col].values     # 提取目标列\n",
        "\n",
        "# 测试集处理（保留ID用于提交）\n",
        "test_ids = test_data[\"id\"].values           # 提取测试集ID\n",
        "X_test = test_data[used_features].values    # 使用相同特征\n",
        "\n",
        "# 4. 训练决策树模型\n",
        "model = DecisionTreeClassifier(\n",
        "    max_depth=5,          # 控制树深度防止过拟合\n",
        "    random_state=42       # 随机种子确保可复现\n",
        ")\n",
        "model.fit(X_train, y_train)\n",
        "\n",
        "# 5. 预测并保存结果\n",
        "pd.DataFrame({\n",
        "    \"id\": test_ids,\n",
        "    \"prediction\": model.predict(X_test)\n",
        "}).to_csv('submission.csv', index=False)\n",
        "\n",
        "print(\"预测完成！结果已保存到 submission.csv\")\n",
        "print(\"使用的特征列:\", used_features)\n",
        "print(\"删除的无用列:\", useless_cols)\n"
      ]
    }
  ]
}