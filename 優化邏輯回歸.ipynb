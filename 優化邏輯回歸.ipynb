{
  "nbformat": 4,
  "nbformat_minor": 0,
  "metadata": {
    "colab": {
      "provenance": []
    },
    "kernelspec": {
      "name": "python3",
      "display_name": "Python 3"
    },
    "language_info": {
      "name": "python"
    }
  },
  "cells": [
    {
      "cell_type": "code",
      "execution_count": null,
      "metadata": {
        "id": "1OmarYSFx9eH"
      },
      "outputs": [],
      "source": [
        "import pandas as pd\n",
        "from sklearn.linear_model import LogisticRegression\n",
        "from sklearn.preprocessing import StandardScaler\n",
        "\n",
        "# 1. 加载数据\n",
        "train = pd.read_csv(\"/kaggle/input/houkong-moai/customer_churn.csv\")  # 训练集\n",
        "test = pd.read_csv(\"/kaggle/input/houkong-moai/customer_churn.csv\")    # 测试集\n",
        "\n",
        "# 2. 基本配置\n",
        "target = \"churn\"    # 目标列名（二分类0/1）\n",
        "\n",
        "# 自动选择特征列\n",
        "features = [\"age\",\"subscription_length\",\"monthly_bill\",\"total_usage\",\"service_complaints\"]\n",
        "\n",
        "# 4. 数据标准化\n",
        "scaler = StandardScaler()\n",
        "X_train = scaler.fit_transform(train[features])\n",
        "X_test = scaler.transform(test[features])\n",
        "y_train = train[target]\n",
        "\n",
        "# 5. 训练优化模型\n",
        "model = LogisticRegression(\n",
        "    max_iter=1000,      # 确保收敛\n",
        "    class_weight=\"balanced\",  # 处理类别不平衡\n",
        "    solver=\"liblinear\"   # 适合小数据集\n",
        ")\n",
        "model.fit(X_train, y_train)\n",
        "\n",
        "# 6. 预测并保存结果\n",
        "test_pred = model.predict(X_test)\n",
        "pd.DataFrame({\n",
        "    \"ID\": test[\"customer_id\"],  # 保留ID列\n",
        "    \"prediction\": test_pred\n",
        "}).to_csv(\"predictions.csv\", index=False)\n",
        "\n",
        "print(\"预测完成！结果已保存\")\n",
        "print(f\"训练准确率: {model.score(X_train, y_train):.2%}\")\n"
      ]
    }
  ]
}