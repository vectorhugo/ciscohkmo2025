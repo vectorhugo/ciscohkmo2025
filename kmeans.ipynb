{
  "nbformat": 4,
  "nbformat_minor": 0,
  "metadata": {
    "colab": {
      "provenance": []
    },
    "kernelspec": {
      "name": "python3",
      "display_name": "Python 3"
    },
    "language_info": {
      "name": "python"
    }
  },
  "cells": [
    {
      "cell_type": "code",
      "execution_count": null,
      "metadata": {
        "id": "p1-BiHtVWSFR"
      },
      "outputs": [],
      "source": [
        "# -*- coding: utf-8 -*-\n",
        "import pandas as pd\n",
        "from sklearn.cluster import KMeans\n",
        "from sklearn.preprocessing import StandardScaler\n",
        "\n",
        "# ========== 用户配置区域 ========== （只需修改这里！）\n",
        "target_col = \"churn\"          # 替换为你的目标列名（本模板其实不需要目标列，仅为保持格式统一保留）\n",
        "used_features = [\"age\", \"subscription_length\", \"monthly_bill\", \"total_usage\", \"service_complaints\"]  # 指定要使用的特征列名\n",
        "n_clusters = 2                # 设定聚类数量\n",
        "# ================================\n",
        "\n",
        "# 1. 读取数据\n",
        "train = pd.read_csv('/kaggle/input/houkong-moai/customer_churn.csv')\n",
        "test = pd.read_csv('/kaggle/input/houkong-moai/customer_churn.csv')\n",
        "\n",
        "# 2. 特征工程（严格按用户指定的列名处理）\n",
        "def prepare_features(df):\n",
        "    # 删除无用列（如果列不存在则忽略）\n",
        "    df = df.drop(columns=[col for col in useless_cols if col in df.columns], errors='ignore')\n",
        "    # 严格选择指定的特征列\n",
        "    return df[used_features]\n",
        "\n",
        "X_train = prepare_features(train)\n",
        "X_test = prepare_features(test)\n",
        "test_ids = test['customer_id'] if 'id' in test.columns else test.index  # 保留ID或默认索引\n",
        "\n",
        "# 3. 数据标准化\n",
        "scaler = StandardScaler()\n",
        "X_train_scaled = scaler.fit_transform(X_train)\n",
        "X_test_scaled = scaler.transform(X_test)\n",
        "\n",
        "# 4. 训练K-Means\n",
        "kmeans = KMeans(n_clusters=n_clusters, random_state=42)\n",
        "kmeans.fit(X_train_scaled)\n",
        "\n",
        "# 5. 预测测试集\n",
        "test_clusters = kmeans.predict(X_test_scaled)\n",
        "\n",
        "# 6. 生成提交文件（强制包含id和cluster列）\n",
        "result = pd.DataFrame({\n",
        "    'ID': test_ids.astype(str),  # 确保ID为字符串类型\n",
        "    'cluster': test_clusters      # 聚类结果\n",
        "})\n",
        "\n",
        "# 7. 保存结果（UTF-8编码，避免中文乱码）\n",
        "result.to_csv('result.csv', index=False, encoding='utf-8')\n",
        "print(\"=\"*40)\n",
        "print(\"结果已保存到 result.csv\")\n",
        "print(f\"特征维度: {X_train_scaled.shape[1]} | 聚类数: {n_clusters}\")\n",
        "print(\"文件结构示例:\")\n",
        "print(result.head(3))\n"
      ]
    }
  ]
}