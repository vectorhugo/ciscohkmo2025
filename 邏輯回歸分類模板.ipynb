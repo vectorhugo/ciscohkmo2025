{
  "nbformat": 4,
  "nbformat_minor": 0,
  "metadata": {
    "colab": {
      "provenance": []
    },
    "kernelspec": {
      "name": "python3",
      "display_name": "Python 3"
    },
    "language_info": {
      "name": "python"
    }
  },
  "cells": [
    {
      "cell_type": "code",
      "execution_count": null,
      "metadata": {
        "id": "zS85HPsUnU1-"
      },
      "outputs": [],
      "source": [
        "# 逻辑回归分类模板（自动处理无用特征）\n",
        "import pandas as pd\n",
        "from sklearn.linear_model import LogisticRegression\n",
        "from sklearn.preprocessing import StandardScaler\n",
        "\n",
        "# 1. 加载数据\n",
        "train = pd.read_csv(\"train.csv\")  # 训练集\n",
        "test = pd.read_csv(\"test.csv\")    # 测试集\n",
        "\n",
        "# 2. 指定列（根据实际数据修改）\n",
        "target_col = \"target\"       # 目标列名（必须是二分类0/1）\n",
        "useless_cols = [\"id\"]       # 要删除的无用列名\n",
        "\n",
        "# 3. 自动选择有效特征\n",
        "used_features = [col for col in train.columns\n",
        "                if col not in useless_cols + [target_col]]\n",
        "\n",
        "# 4. 数据标准化（重要！）\n",
        "scaler = StandardScaler()\n",
        "X_train = scaler.fit_transform(train[used_features])\n",
        "X_test = scaler.transform(test[used_features])\n",
        "y_train = train[target_col]\n",
        "\n",
        "# 5. 训练模型\n",
        "model = LogisticRegression(max_iter=1000)  # 增加迭代次数确保收敛\n",
        "model.fit(X_train, y_train)\n",
        "\n",
        "# 6. 预测并保存结果\n",
        "pd.DataFrame({\n",
        "    \"id\": test[\"id\"],  # 保留ID列\n",
        "    \"prediction\": model.predict(X_test)\n",
        "}).to_csv(\"predictions.csv\", index=False)\n",
        "\n",
        "print(\"预测完成！结果已保存至 predictions.csv\")\n",
        "print(f\"使用的特征：{used_features}\")\n",
        "print(f\"模型准确率（训练集）：{model.score(X_train, y_train):.2%}\")\n"
      ]
    }
  ]
}